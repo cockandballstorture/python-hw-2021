{
 "cells": [
  {
   "cell_type": "markdown",
   "id": "82d1d94c",
   "metadata": {},
   "source": [
    "№1 "
   ]
  },
  {
   "cell_type": "code",
   "execution_count": 2,
   "id": "4141f298",
   "metadata": {},
   "outputs": [
    {
     "name": "stdout",
     "output_type": "stream",
     "text": [
      "3\n"
     ]
    }
   ],
   "source": [
    "a=1\n",
    "b=2\n",
    "c=3\n",
    "w=[a,b,c]\n",
    "print(max(w))"
   ]
  },
  {
   "cell_type": "markdown",
   "id": "7e7a6a0a",
   "metadata": {},
   "source": [
    "№2"
   ]
  },
  {
   "cell_type": "code",
   "execution_count": 16,
   "id": "a76eae9b",
   "metadata": {},
   "outputs": [
    {
     "name": "stdout",
     "output_type": "stream",
     "text": [
      "ye\n"
     ]
    }
   ],
   "source": [
    "a=[1,1]\n",
    "b=[2,1]\n",
    "c=[2,2]\n",
    "w=[a,b,c]\n",
    "q=[]\n",
    "for i in range (2):\n",
    "    q.append(((w[i][0]-w[i+1][0])**2+(w[i][1]-w[i+1][1])**2)**0.5)\n",
    "q.append(((w[2][0]-w[0][0])**2+(w[0][1]-w[2][1])**2)**0.5)\n",
    "if q[0]+q[1]>q[2] and q[0]+q[2]>q[1] and q[2]+q[1]>q[0]:\n",
    "    print(\"ye\")\n",
    "else:\n",
    "    print(\"nyet\")"
   ]
  },
  {
   "cell_type": "markdown",
   "id": "2dfad4e0",
   "metadata": {},
   "source": [
    "№3"
   ]
  },
  {
   "cell_type": "code",
   "execution_count": 17,
   "id": "8038764a",
   "metadata": {},
   "outputs": [
    {
     "name": "stdout",
     "output_type": "stream",
     "text": [
      "-2.0 -1.0\n"
     ]
    }
   ],
   "source": [
    "a = 1\n",
    "b = 3\n",
    "c = 2\n",
    "if a == 0:\n",
    "    x = (-c)/b\n",
    "    print(x)\n",
    "    raise SystemExit\n",
    "else:\n",
    "    d = (b ** 2) - 4 * a * c\n",
    "if d > 0:\n",
    "    x = ((-b)-(d**0.5))/(2*a)\n",
    "    w = ((-b)+(d**0.5))/(2*a)\n",
    "    print(x,w)\n",
    "elif d == 0:\n",
    "    x = -b/(2*a)\n",
    "    print(x)\n",
    "else:\n",
    "    print('no answer')"
   ]
  }
 ],
 "metadata": {
  "kernelspec": {
   "display_name": "Python 3 (ipykernel)",
   "language": "python",
   "name": "python3"
  },
  "language_info": {
   "codemirror_mode": {
    "name": "ipython",
    "version": 3
   },
   "file_extension": ".py",
   "mimetype": "text/x-python",
   "name": "python",
   "nbconvert_exporter": "python",
   "pygments_lexer": "ipython3",
   "version": "3.9.7"
  }
 },
 "nbformat": 4,
 "nbformat_minor": 5
}
