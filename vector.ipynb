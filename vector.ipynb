{
 "cells": [
  {
   "cell_type": "code",
   "execution_count": 33,
   "id": "9ea7e5f8",
   "metadata": {},
   "outputs": [],
   "source": [
    "from math import sqrt, acos\n",
    "class vector:\n",
    "    def __init__(self, c):\n",
    "        self.c=c\n",
    "        self.n=len(c)\n",
    "    def __str__(self):\n",
    "        return '{} '.format(self.c)\n",
    "    def norm(self):\n",
    "        a=(sum(list(map(lambda x: x**2,self.c))))**0.5\n",
    "        return a\n",
    "    def angl(self,obj):\n",
    "        q=(self*obj)/(self.norm()*obj.norm())\n",
    "        return acos(q)\n",
    "    def __mul__(self, obj):\n",
    "        if isinstance(obj,vector):\n",
    "            if (obj.n == self.n):\n",
    "                a=list(map(lambda x,y: x*y,obj.c,self.c))\n",
    "                return sum(a)\n",
    "            else:\n",
    "                print(\"wrong dimensions\")\n",
    "                pass\n",
    "        else:    \n",
    "            return list(map(lambda x,y: x*y,obj,self.c))\n",
    "    def __add__(self, obj):\n",
    "        if (obj.n == self.n):\n",
    "            return vector(list(map(lambda x,y: x+y,obj.c,self.c)))\n",
    "        else:\n",
    "            print(\"wrong dimensions\")\n",
    "            pass"
   ]
  },
  {
   "cell_type": "code",
   "execution_count": 34,
   "id": "16bcef6f",
   "metadata": {},
   "outputs": [
    {
     "name": "stdout",
     "output_type": "stream",
     "text": [
      "0.7421110273494244\n"
     ]
    }
   ],
   "source": [
    "a=[2,3,5]\n",
    "a=vector(a)\n",
    "b=[3,2,1]\n",
    "b=vector(b)\n",
    "x=a.angl(b)\n",
    "print(x)"
   ]
  }
 ],
 "metadata": {
  "kernelspec": {
   "display_name": "Python 3 (ipykernel)",
   "language": "python",
   "name": "python3"
  },
  "language_info": {
   "codemirror_mode": {
    "name": "ipython",
    "version": 3
   },
   "file_extension": ".py",
   "mimetype": "text/x-python",
   "name": "python",
   "nbconvert_exporter": "python",
   "pygments_lexer": "ipython3",
   "version": "3.9.7"
  }
 },
 "nbformat": 4,
 "nbformat_minor": 5
}
