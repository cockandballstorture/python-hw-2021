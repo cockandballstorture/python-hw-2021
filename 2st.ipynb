{
 "cells": [
  {
   "cell_type": "markdown",
   "id": "ecff7947",
   "metadata": {},
   "source": [
    "# № 1"
   ]
  },
  {
   "cell_type": "code",
   "execution_count": 1,
   "id": "7f33a1b3",
   "metadata": {},
   "outputs": [
    {
     "name": "stdout",
     "output_type": "stream",
     "text": [
      "1 2 3 4\n"
     ]
    },
    {
     "data": {
      "text/plain": [
       "2.75"
      ]
     },
     "execution_count": 1,
     "metadata": {},
     "output_type": "execute_result"
    }
   ],
   "source": [
    "def func():\n",
    "    a=list(map(float,input().split()))\n",
    "    for i in range(len(a)):\n",
    "        a[0]=a[0]+a[i]\n",
    "    return(a[0]/len(a))\n",
    "w=func()\n",
    "w"
   ]
  },
  {
   "cell_type": "markdown",
   "id": "37af72b7",
   "metadata": {},
   "source": [
    "# № 2"
   ]
  },
  {
   "cell_type": "code",
   "execution_count": 1,
   "id": "03b4edb5",
   "metadata": {},
   "outputs": [
    {
     "name": "stdout",
     "output_type": "stream",
     "text": [
      "1\n",
      "2\n",
      "3\n",
      "0\n"
     ]
    },
    {
     "data": {
      "text/plain": [
       "2.0"
      ]
     },
     "execution_count": 1,
     "metadata": {},
     "output_type": "execute_result"
    }
   ],
   "source": [
    "def func():\n",
    "    q=1\n",
    "    a=0\n",
    "    k=0\n",
    "    while(q!=0):\n",
    "        q=float(input())\n",
    "        a=a+q\n",
    "        k=k+1\n",
    "    k=k-1\n",
    "    if(k==0):\n",
    "        return 0\n",
    "    else:\n",
    "        return(a/k)\n",
    "w=func()\n",
    "w"
   ]
  },
  {
   "cell_type": "markdown",
   "id": "6255fa0f",
   "metadata": {},
   "source": [
    "# № 3"
   ]
  },
  {
   "cell_type": "code",
   "execution_count": 5,
   "id": "b96e4958",
   "metadata": {},
   "outputs": [
    {
     "name": "stdout",
     "output_type": "stream",
     "text": [
      "1 2 3\n",
      "4 5 6\n"
     ]
    },
    {
     "data": {
      "text/plain": [
       "[1.0, 4.0, 2.0, 5.0, 3.0, 6.0]"
      ]
     },
     "execution_count": 5,
     "metadata": {},
     "output_type": "execute_result"
    }
   ],
   "source": [
    "def func(a,b):\n",
    "    w=[]\n",
    "    for i in range(len(a)):\n",
    "        w.append(a[i])\n",
    "        w.append(b[i])\n",
    "    return(w)\n",
    "a=list(map(float,input().split()))\n",
    "b=list(map(float,input().split()))\n",
    "w=func(a,b)\n",
    "w"
   ]
  },
  {
   "cell_type": "markdown",
   "id": "2bacdb86",
   "metadata": {},
   "source": [
    "# № 4"
   ]
  },
  {
   "cell_type": "code",
   "execution_count": 6,
   "id": "e565b4dc",
   "metadata": {},
   "outputs": [
    {
     "name": "stdout",
     "output_type": "stream",
     "text": [
      "1 4 23 55 1\n",
      "min 1.0 max 55.0\n"
     ]
    }
   ],
   "source": [
    "def func(a):\n",
    "    min=a[0]\n",
    "    max=a[0]\n",
    "    for i in range(len(a)):\n",
    "        if(min>a[i]):\n",
    "            min=a[i]\n",
    "        if(max<a[i]):\n",
    "            max=a[i]\n",
    "    return(min,max)\n",
    "a=list(map(float,input().split()))\n",
    "y,x=func(a)\n",
    "print(\"min\",y,\"max\",x)"
   ]
  },
  {
   "cell_type": "markdown",
   "id": "ad872fb8",
   "metadata": {},
   "source": [
    "# № 5"
   ]
  },
  {
   "cell_type": "code",
   "execution_count": 7,
   "id": "b40117f0",
   "metadata": {},
   "outputs": [
    {
     "name": "stdout",
     "output_type": "stream",
     "text": [
      "1 2 1 2 3 1 2 3 4 1 2\n",
      "[5, 8]\n"
     ]
    }
   ],
   "source": [
    "def func(a):\n",
    "    q=0\n",
    "    w=0\n",
    "    l=[0]\n",
    "    e=[q,w]\n",
    "    k=0\n",
    "    z=[]\n",
    "    for i in range(len(a)-1):\n",
    "        w=i+1\n",
    "        if(a[i]<a[i+1]):\n",
    "            l[k]=w-q\n",
    "            e[k*2+1]=w\n",
    "        else:\n",
    "            k=k+1\n",
    "            q=i+1\n",
    "            l.append(0)\n",
    "            e.append(q)\n",
    "            e.append(w)\n",
    "    for i in range(len(l)):\n",
    "        w=l[0]\n",
    "        if(w<l[i]):\n",
    "            k=i\n",
    "    if(e[2*k]!=e[2*k+1]):\n",
    "        z.append(e[2*k])\n",
    "        z.append(e[2*k+1])\n",
    "        return(z)\n",
    "    else:\n",
    "        z.append(0)\n",
    "        return z\n",
    "a=list(map(float,input().split()))\n",
    "q=func(a)\n",
    "print(q)"
   ]
  },
  {
   "cell_type": "markdown",
   "id": "9480849d",
   "metadata": {},
   "source": [
    "p.s. если отсчёт нужен не с нуля,то \n",
    "z.append(e[2*k+1])\n",
    "z.append(e[2*k+2])"
   ]
  }
 ],
 "metadata": {
  "kernelspec": {
   "display_name": "Python 3 (ipykernel)",
   "language": "python",
   "name": "python3"
  },
  "language_info": {
   "codemirror_mode": {
    "name": "ipython",
    "version": 3
   },
   "file_extension": ".py",
   "mimetype": "text/x-python",
   "name": "python",
   "nbconvert_exporter": "python",
   "pygments_lexer": "ipython3",
   "version": "3.9.7"
  }
 },
 "nbformat": 4,
 "nbformat_minor": 5
}
