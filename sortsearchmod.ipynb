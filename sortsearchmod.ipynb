{
 "cells": [
  {
   "cell_type": "code",
   "execution_count": 6,
   "id": "fac98590",
   "metadata": {},
   "outputs": [
    {
     "name": "stdout",
     "output_type": "stream",
     "text": [
      "2\n",
      "100000002\n",
      "0.0010149478912353516\n"
     ]
    }
   ],
   "source": [
    "import time as t\n",
    "a = [i for i in range(-100000000,10000000)]\n",
    "z = float(input())\n",
    "def search(a):\n",
    "    l=0\n",
    "    r=len(a)-1\n",
    "    while l<=r:\n",
    "        m = (l + r) // 2\n",
    "        if (z<a[m]):\n",
    "          r=m-1\n",
    "        elif (z>a[m]):\n",
    "          l=m+1\n",
    "        else:\n",
    "          print(m)\n",
    "          break\n",
    "    else:\n",
    "      print(\"no\")\n",
    "start = t.time()\n",
    "search(a)\n",
    "end = t.time()\n",
    "print(end-start)"
   ]
  },
  {
   "cell_type": "code",
   "execution_count": 7,
   "id": "3608f49f",
   "metadata": {},
   "outputs": [
    {
     "name": "stdout",
     "output_type": "stream",
     "text": [
      "2\n",
      "100000002\n",
      "0.0009989738464355469\n"
     ]
    }
   ],
   "source": [
    "import time as t\n",
    "a = [i for i in range(-100000000,10000000)]\n",
    "z = float(input())\n",
    "def search(a,l,r):\n",
    "    if (r>=l):\n",
    "        m = (l + r) // 2\n",
    "        if (z<a[m]):\n",
    "          return search(a,l,m-1)\n",
    "        elif (z>a[m]):\n",
    "          return search(a,m+1,r)\n",
    "        else:\n",
    "          print(m)\n",
    "    else:\n",
    "      print(\"no\")\n",
    "start = t.time()\n",
    "search(a,0,len(a)-1)\n",
    "end = t.time()\n",
    "print(end-start)"
   ]
  },
  {
   "cell_type": "markdown",
   "id": "5306888f",
   "metadata": {},
   "source": [
    "# Сортировка вставками"
   ]
  },
  {
   "cell_type": "code",
   "execution_count": 15,
   "id": "8090df06",
   "metadata": {},
   "outputs": [
    {
     "name": "stdout",
     "output_type": "stream",
     "text": [
      "5.24904727935791\n"
     ]
    }
   ],
   "source": [
    "from random import randint\n",
    "import time as t\n",
    "def sortv(a):\n",
    "    for i in range (len(a)):\n",
    "        w=a[i]\n",
    "        j=i-1\n",
    "        while j>=0 and w<a[j]:\n",
    "            a[j+1]=a[j]\n",
    "            j-=1\n",
    "        a[j+1]=w\n",
    "a = [randint(-100, 100) for i in range(10000)]\n",
    "start = t.time()\n",
    "sortv(a)\n",
    "end = t.time()\n",
    "print(end-start)"
   ]
  },
  {
   "cell_type": "markdown",
   "id": "a04477f9",
   "metadata": {},
   "source": [
    "# Сортировка пузырьком"
   ]
  },
  {
   "cell_type": "code",
   "execution_count": 16,
   "id": "5ffefb99",
   "metadata": {},
   "outputs": [
    {
     "name": "stdout",
     "output_type": "stream",
     "text": [
      "11.663172006607056\n"
     ]
    }
   ],
   "source": [
    "from random import randint\n",
    "import time as t\n",
    "def sortp(a):\n",
    "    k=0\n",
    "    for i in range(len(a)):\n",
    "        for j in range(len(a)-1-i):\n",
    "            if a[j]>a[j+1]:\n",
    "                a[j],a[j+1]=a[j+1],a[j]\n",
    "                o=True\n",
    "        k+=1\n",
    "        if not o : break\n",
    "a = [randint(-100, 100) for i in range(10000)]\n",
    "start = t.time()\n",
    "sortp(a)\n",
    "end = t.time()\n",
    "print(end-start)"
   ]
  },
  {
   "cell_type": "markdown",
   "id": "e619f0e5",
   "metadata": {},
   "source": [
    "# Сортировка слиянием"
   ]
  },
  {
   "cell_type": "code",
   "execution_count": 18,
   "id": "0b070812",
   "metadata": {},
   "outputs": [
    {
     "name": "stdout",
     "output_type": "stream",
     "text": [
      "0.05298304557800293\n"
     ]
    }
   ],
   "source": [
    "from random import randint\n",
    "import time as t\n",
    "def mergeSort(a):\n",
    "    if len(a)>1:\n",
    "        mid = len(a)//2\n",
    "        l = a[:mid]\n",
    "        r = a[mid:]\n",
    "        mergeSort(l)\n",
    "        mergeSort(r)\n",
    "        i=0\n",
    "        j=0\n",
    "        k=0\n",
    "        while i<len(l) and j<len(r):\n",
    "            if l[i]<r[j]:\n",
    "                a[k]=l[i]\n",
    "                i=i+1\n",
    "            else:\n",
    "                a[k]=r[j]\n",
    "                j=j+1\n",
    "            k=k+1\n",
    "        while i<len(l):\n",
    "            a[k]=l[i]\n",
    "            i=i+1\n",
    "            k=k+1\n",
    "        while j<len(r):\n",
    "            a[k]=r[j]\n",
    "            j=j+1\n",
    "            k=k+1\n",
    "a = [randint(-100, 100) for i in range(10000)]\n",
    "start = t.time()\n",
    "mergeSort(a)\n",
    "end = t.time()\n",
    "print(end-start)"
   ]
  },
  {
   "cell_type": "code",
   "execution_count": 13,
   "id": "518fa6c6",
   "metadata": {},
   "outputs": [
    {
     "name": "stdout",
     "output_type": "stream",
     "text": [
      "5\n",
      "6\n",
      "7\n",
      "3\n"
     ]
    }
   ],
   "source": [
    "import idkforgot as i\n",
    "n=i.n\n",
    "d=i.d\n",
    "k=i.q(n,d)\n",
    "print(k)"
   ]
  }
 ],
 "metadata": {
  "kernelspec": {
   "display_name": "Python 3 (ipykernel)",
   "language": "python",
   "name": "python3"
  },
  "language_info": {
   "codemirror_mode": {
    "name": "ipython",
    "version": 3
   },
   "file_extension": ".py",
   "mimetype": "text/x-python",
   "name": "python",
   "nbconvert_exporter": "python",
   "pygments_lexer": "ipython3",
   "version": "3.9.7"
  }
 },
 "nbformat": 4,
 "nbformat_minor": 5
}
