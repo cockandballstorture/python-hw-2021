{
 "cells": [
  {
   "cell_type": "markdown",
   "id": "bc9980c5",
   "metadata": {},
   "source": [
    "# №1"
   ]
  },
  {
   "cell_type": "code",
   "execution_count": 8,
   "id": "02d63e2c",
   "metadata": {},
   "outputs": [
    {
     "name": "stdout",
     "output_type": "stream",
     "text": [
      "3\n",
      "4\n",
      "1\n"
     ]
    }
   ],
   "source": [
    "def eff(a,b):\n",
    "    while a*b>0:\n",
    "        if a>b:\n",
    "            a=a%b\n",
    "        else:\n",
    "            b=b%a\n",
    "    return(a+b)\n",
    "a=int(input())\n",
    "b=int(input())\n",
    "q=eff(a,b)\n",
    "print(q)"
   ]
  },
  {
   "cell_type": "markdown",
   "id": "4154565d",
   "metadata": {},
   "source": [
    "# №2"
   ]
  },
  {
   "cell_type": "code",
   "execution_count": 16,
   "id": "8993fe10",
   "metadata": {},
   "outputs": [
    {
     "name": "stdout",
     "output_type": "stream",
     "text": [
      "6 12 11 18\n",
      "1.0\n"
     ]
    }
   ],
   "source": [
    "def eff(a,b):\n",
    "    while a*b>0:\n",
    "        if a>b:\n",
    "            a=a%b\n",
    "        else:\n",
    "            b=b%a\n",
    "    return(a+b)\n",
    "a=list(map(float,input().split()))\n",
    "q=a[0]\n",
    "for i in range(1,len(a)):\n",
    "    q=eff(q,a[i])\n",
    "print(q)"
   ]
  }
 ],
 "metadata": {
  "kernelspec": {
   "display_name": "Python 3 (ipykernel)",
   "language": "python",
   "name": "python3"
  },
  "language_info": {
   "codemirror_mode": {
    "name": "ipython",
    "version": 3
   },
   "file_extension": ".py",
   "mimetype": "text/x-python",
   "name": "python",
   "nbconvert_exporter": "python",
   "pygments_lexer": "ipython3",
   "version": "3.9.7"
  }
 },
 "nbformat": 4,
 "nbformat_minor": 5
}
