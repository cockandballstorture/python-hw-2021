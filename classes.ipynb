{
 "cells": [
  {
   "cell_type": "code",
   "execution_count": 36,
   "id": "258cfd13",
   "metadata": {},
   "outputs": [],
   "source": [
    "import math\n",
    "class CF:\n",
    "    def __init__(self,ch = 0,zn = 1):\n",
    "        self.zn=zn\n",
    "        self.ch=ch\n",
    "        self.shrt()\n",
    "    def __add__(self,a):\n",
    "        if (isinstance(a,CF)==True):\n",
    "            a=CF(self.ch*a.zn + self.zn*a.ch,self.zn*a.zn)\n",
    "            a.shrt()\n",
    "            return a\n",
    "        else:\n",
    "            a=CF(self.ch+ self.zn*a,self.zn)\n",
    "            a.shrt()\n",
    "            return a\n",
    "    def __mul__(self,a):\n",
    "        if (isinstance(a,CF)==True):\n",
    "            a=CF(self.ch*a.ch,self.zn*a.zn)\n",
    "            a.shrt()\n",
    "            return a\n",
    "        else:\n",
    "            a=CF(self.ch*a,self.zn)\n",
    "            a.shrt()\n",
    "            return a\n",
    "    def shrt(self):\n",
    "        k = math.gcd(self.ch,self.zn)\n",
    "        self.ch=self.ch//k\n",
    "        self.zn=self.zn//k\n",
    "    def __str__(self):\n",
    "        if(self.zn==1):\n",
    "            return str(self.ch)\n",
    "        else:\n",
    "            return str(self.ch) + \"/\" + str(self.zn)\n"
   ]
  },
  {
   "cell_type": "code",
   "execution_count": 37,
   "id": "5ff6f434",
   "metadata": {},
   "outputs": [
    {
     "name": "stdout",
     "output_type": "stream",
     "text": [
      "25/3\n"
     ]
    }
   ],
   "source": [
    "a=CF(16,3)\n",
    "b=CF(3,2)\n",
    "print(a+3)"
   ]
  },
  {
   "cell_type": "code",
   "execution_count": 38,
   "id": "7d36556d",
   "metadata": {},
   "outputs": [],
   "source": [
    "class sircle:\n",
    "    def __init__(self,x = 0,y = 0,r=0):\n",
    "        self.x=x\n",
    "        self.y=y\n",
    "        self.r=r\n",
    "    def r(self,r):\n",
    "        self.r=r\n",
    "    def xy(self,x,y):\n",
    "        self.x=x\n",
    "        self.y=y\n",
    "    def inter(self,a):\n",
    "        q=((a.x - self.x) **2+ (self.y - a.y)**2)**0.5;\n",
    "        x1=self.x\n",
    "        x2=a.x\n",
    "        y1=self.y\n",
    "        y2=a.y\n",
    "        if(self.x==a.x and self.y==a.y and self.r==a.r):\n",
    "            print(\"every\")\n",
    "        else:\n",
    "            if(self.r>a.r):\n",
    "                x1,x2=x2,x1\n",
    "                y1,y2=y2,y1\n",
    "            if(self.r+a.r==q or q==self.r-a.r):\n",
    "                print(1)\n",
    "            if(self.r+a.r<q or q<self.r-a.r):\n",
    "                print(0)\n",
    "            else:\n",
    "                print(2)"
   ]
  },
  {
   "cell_type": "code",
   "execution_count": 39,
   "id": "b91fc912",
   "metadata": {},
   "outputs": [
    {
     "name": "stdout",
     "output_type": "stream",
     "text": [
      "2\n"
     ]
    }
   ],
   "source": [
    "a=sircle(0,0,3)\n",
    "b=sircle(3,0,2)\n",
    "a.inter(b)"
   ]
  }
 ],
 "metadata": {
  "kernelspec": {
   "display_name": "Python 3 (ipykernel)",
   "language": "python",
   "name": "python3"
  },
  "language_info": {
   "codemirror_mode": {
    "name": "ipython",
    "version": 3
   },
   "file_extension": ".py",
   "mimetype": "text/x-python",
   "name": "python",
   "nbconvert_exporter": "python",
   "pygments_lexer": "ipython3",
   "version": "3.9.7"
  }
 },
 "nbformat": 4,
 "nbformat_minor": 5
}
