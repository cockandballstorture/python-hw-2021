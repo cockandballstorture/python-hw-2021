{
 "cells": [
  {
   "cell_type": "markdown",
   "id": "416de130",
   "metadata": {},
   "source": [
    "# №1"
   ]
  },
  {
   "cell_type": "code",
   "execution_count": 92,
   "id": "b15da437",
   "metadata": {},
   "outputs": [
    {
     "name": "stdout",
     "output_type": "stream",
     "text": [
      "{'о': 151358}\n",
      "{'е': 116885}\n",
      "{'а': 107535}\n",
      "{'н': 89876}\n",
      "{'и': 86764}\n"
     ]
    }
   ],
   "source": [
    "import re\n",
    "f = open('karenina.txt', 'r', encoding='utf-8')\n",
    "text=f.read()\n",
    "text=re.sub(r'[!“„?….\\n:«»;,\" ()-]', \"\",text)\n",
    "text = list(text)\n",
    "d = dict.fromkeys(text, 0)\n",
    "for c in text: d[c] += 1\n",
    "s = sorted(d, key=d.__getitem__)\n",
    "for i in range(5):\n",
    "    k=s[-1-i]\n",
    "    print({k: d[k]})\n",
    "f.close()"
   ]
  },
  {
   "cell_type": "markdown",
   "id": "33481dd2",
   "metadata": {},
   "source": [
    "# №2"
   ]
  },
  {
   "cell_type": "code",
   "execution_count": 7,
   "id": "08b05acb",
   "metadata": {},
   "outputs": [
    {
     "name": "stdout",
     "output_type": "stream",
     "text": [
      "4\n",
      "{0: 0, 1: 1, 2: 4, 3: 9}\n"
     ]
    }
   ],
   "source": [
    "n=int(input())\n",
    "d={i:i**2 for i in range(n) }\n",
    "print(d)"
   ]
  },
  {
   "cell_type": "markdown",
   "id": "85b8ab2f",
   "metadata": {},
   "source": [
    "# №3"
   ]
  },
  {
   "cell_type": "code",
   "execution_count": 95,
   "id": "fb8dee23",
   "metadata": {},
   "outputs": [
    {
     "name": "stdout",
     "output_type": "stream",
     "text": [
      "['sgfhsfgh', 'afgsgmi', 'dsfhsa', 'gfjndfga', 'riiiiiiiiiiiiiiiii', 'mwma']\n"
     ]
    }
   ],
   "source": [
    "a = ['na', 'afgsgmi', 'dsfhsa', 'aaaaa','riiiiiiiiiiiiiiiii','mwma']\n",
    "b=['sgfhsfgh','fgfg','kaaaa','gfjndfga','zdfhnna','le','kogo']\n",
    "l=list(map(lambda x,y: x if len(x) > len(y) else y,a,b))\n",
    "print(l)"
   ]
  }
 ],
 "metadata": {
  "kernelspec": {
   "display_name": "Python 3 (ipykernel)",
   "language": "python",
   "name": "python3"
  },
  "language_info": {
   "codemirror_mode": {
    "name": "ipython",
    "version": 3
   },
   "file_extension": ".py",
   "mimetype": "text/x-python",
   "name": "python",
   "nbconvert_exporter": "python",
   "pygments_lexer": "ipython3",
   "version": "3.9.7"
  }
 },
 "nbformat": 4,
 "nbformat_minor": 5
}
